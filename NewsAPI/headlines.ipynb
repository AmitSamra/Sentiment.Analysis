{
 "cells": [
  {
   "cell_type": "code",
   "execution_count": 180,
   "metadata": {},
   "outputs": [],
   "source": [
    "import numpy as np\n",
    "import pandas as pd\n",
    "import os\n",
    "import nltk"
   ]
  },
  {
   "cell_type": "code",
   "execution_count": 181,
   "metadata": {},
   "outputs": [],
   "source": [
    "pd.set_option('display.max_colwidth', -1)"
   ]
  },
  {
   "cell_type": "code",
   "execution_count": 182,
   "metadata": {},
   "outputs": [
    {
     "data": {
      "text/html": [
       "<div>\n",
       "<style scoped>\n",
       "    .dataframe tbody tr th:only-of-type {\n",
       "        vertical-align: middle;\n",
       "    }\n",
       "\n",
       "    .dataframe tbody tr th {\n",
       "        vertical-align: top;\n",
       "    }\n",
       "\n",
       "    .dataframe thead th {\n",
       "        text-align: right;\n",
       "    }\n",
       "</style>\n",
       "<table border=\"1\" class=\"dataframe\">\n",
       "  <thead>\n",
       "    <tr style=\"text-align: right;\">\n",
       "      <th></th>\n",
       "      <th>date</th>\n",
       "      <th>source</th>\n",
       "      <th>headline</th>\n",
       "      <th>hd</th>\n",
       "      <th>he</th>\n",
       "      <th>hf</th>\n",
       "      <th>hg</th>\n",
       "      <th>hh</th>\n",
       "    </tr>\n",
       "  </thead>\n",
       "  <tbody>\n",
       "    <tr>\n",
       "      <th>0</th>\n",
       "      <td>4/13/20</td>\n",
       "      <td>CNBC</td>\n",
       "      <td>Stocks making the biggest moves after hours: Roku AMC Tesla and more</td>\n",
       "      <td>NaN</td>\n",
       "      <td>NaN</td>\n",
       "      <td>NaN</td>\n",
       "      <td>NaN</td>\n",
       "      <td>NaN</td>\n",
       "    </tr>\n",
       "    <tr>\n",
       "      <th>1</th>\n",
       "      <td>4/13/20</td>\n",
       "      <td>CNBC</td>\n",
       "      <td>Stock buybacks: We need a new litmus test after the bailouts</td>\n",
       "      <td>NaN</td>\n",
       "      <td>NaN</td>\n",
       "      <td>NaN</td>\n",
       "      <td>NaN</td>\n",
       "      <td>NaN</td>\n",
       "    </tr>\n",
       "    <tr>\n",
       "      <th>2</th>\n",
       "      <td>4/14/20</td>\n",
       "      <td>Bloomberg</td>\n",
       "      <td>Tesla Wooed by $1 Billion Missouri Package for Cybertruck Plant</td>\n",
       "      <td>NaN</td>\n",
       "      <td>NaN</td>\n",
       "      <td>NaN</td>\n",
       "      <td>NaN</td>\n",
       "      <td>NaN</td>\n",
       "    </tr>\n",
       "    <tr>\n",
       "      <th>3</th>\n",
       "      <td>4/14/20</td>\n",
       "      <td>CNBC</td>\n",
       "      <td>Tesla shares pop after Credit Suisse upgrades stock says company will increase electric car lead</td>\n",
       "      <td>NaN</td>\n",
       "      <td>NaN</td>\n",
       "      <td>NaN</td>\n",
       "      <td>NaN</td>\n",
       "      <td>NaN</td>\n",
       "    </tr>\n",
       "    <tr>\n",
       "      <th>4</th>\n",
       "      <td>4/14/20</td>\n",
       "      <td>CNBC</td>\n",
       "      <td>Tesla shares jump after hours as Goldman initiates with buy rating sees rally above $800</td>\n",
       "      <td>NaN</td>\n",
       "      <td>NaN</td>\n",
       "      <td>NaN</td>\n",
       "      <td>NaN</td>\n",
       "      <td>NaN</td>\n",
       "    </tr>\n",
       "    <tr>\n",
       "      <th>...</th>\n",
       "      <td>...</td>\n",
       "      <td>...</td>\n",
       "      <td>...</td>\n",
       "      <td>...</td>\n",
       "      <td>...</td>\n",
       "      <td>...</td>\n",
       "      <td>...</td>\n",
       "      <td>...</td>\n",
       "    </tr>\n",
       "    <tr>\n",
       "      <th>142</th>\n",
       "      <td>5/12/20</td>\n",
       "      <td>CNBC</td>\n",
       "      <td>Chamath Palihapitiya defends Elon Musk's decision to open Tesla production in defiance of local authorities</td>\n",
       "      <td>NaN</td>\n",
       "      <td>NaN</td>\n",
       "      <td>NaN</td>\n",
       "      <td>NaN</td>\n",
       "      <td>NaN</td>\n",
       "    </tr>\n",
       "    <tr>\n",
       "      <th>143</th>\n",
       "      <td>5/12/20</td>\n",
       "      <td>CNBC</td>\n",
       "      <td>Tesla CEO Elon Musk defies stay-at-home order in Alameda County in California</td>\n",
       "      <td>NaN</td>\n",
       "      <td>NaN</td>\n",
       "      <td>NaN</td>\n",
       "      <td>NaN</td>\n",
       "      <td>NaN</td>\n",
       "    </tr>\n",
       "    <tr>\n",
       "      <th>144</th>\n",
       "      <td>5/12/20</td>\n",
       "      <td>CNBC</td>\n",
       "      <td>Cramer on Elon Musk's fight with California: It's time to open up that factory</td>\n",
       "      <td>NaN</td>\n",
       "      <td>NaN</td>\n",
       "      <td>NaN</td>\n",
       "      <td>NaN</td>\n",
       "      <td>NaN</td>\n",
       "    </tr>\n",
       "    <tr>\n",
       "      <th>145</th>\n",
       "      <td>5/12/20</td>\n",
       "      <td>CNBC</td>\n",
       "      <td>Chamath Palihapitiya on Elon Musk's fight with Alameda County over social distancing rules</td>\n",
       "      <td>NaN</td>\n",
       "      <td>NaN</td>\n",
       "      <td>NaN</td>\n",
       "      <td>NaN</td>\n",
       "      <td>NaN</td>\n",
       "    </tr>\n",
       "    <tr>\n",
       "      <th>146</th>\n",
       "      <td>5/12/20</td>\n",
       "      <td>CNBC</td>\n",
       "      <td>Stocks making the biggest moves in the premarket: Casper Sleep Tesla Eventbrite Hertz &amp; more</td>\n",
       "      <td>NaN</td>\n",
       "      <td>NaN</td>\n",
       "      <td>NaN</td>\n",
       "      <td>NaN</td>\n",
       "      <td>NaN</td>\n",
       "    </tr>\n",
       "  </tbody>\n",
       "</table>\n",
       "<p>147 rows × 8 columns</p>\n",
       "</div>"
      ],
      "text/plain": [
       "        date     source  \\\n",
       "0    4/13/20  CNBC        \n",
       "1    4/13/20  CNBC        \n",
       "2    4/14/20  Bloomberg   \n",
       "3    4/14/20  CNBC        \n",
       "4    4/14/20  CNBC        \n",
       "..       ...   ...        \n",
       "142  5/12/20  CNBC        \n",
       "143  5/12/20  CNBC        \n",
       "144  5/12/20  CNBC        \n",
       "145  5/12/20  CNBC        \n",
       "146  5/12/20  CNBC        \n",
       "\n",
       "                                                                                                             headline  \\\n",
       "0    Stocks making the biggest moves after hours: Roku AMC Tesla and more                                               \n",
       "1    Stock buybacks: We need a new litmus test after the bailouts                                                       \n",
       "2    Tesla Wooed by $1 Billion Missouri Package for Cybertruck Plant                                                    \n",
       "3    Tesla shares pop after Credit Suisse upgrades stock says company will increase electric car lead                   \n",
       "4    Tesla shares jump after hours as Goldman initiates with buy rating sees rally above $800                           \n",
       "..                                                                                            ...                       \n",
       "142  Chamath Palihapitiya defends Elon Musk's decision to open Tesla production in defiance of local authorities        \n",
       "143  Tesla CEO Elon Musk defies stay-at-home order in Alameda County in California                                      \n",
       "144  Cramer on Elon Musk's fight with California: It's time to open up that factory                                     \n",
       "145  Chamath Palihapitiya on Elon Musk's fight with Alameda County over social distancing rules                         \n",
       "146  Stocks making the biggest moves in the premarket: Casper Sleep Tesla Eventbrite Hertz & more                       \n",
       "\n",
       "     hd  he  hf  hg  hh  \n",
       "0   NaN NaN NaN NaN NaN  \n",
       "1   NaN NaN NaN NaN NaN  \n",
       "2   NaN NaN NaN NaN NaN  \n",
       "3   NaN NaN NaN NaN NaN  \n",
       "4   NaN NaN NaN NaN NaN  \n",
       "..   ..  ..  ..  ..  ..  \n",
       "142 NaN NaN NaN NaN NaN  \n",
       "143 NaN NaN NaN NaN NaN  \n",
       "144 NaN NaN NaN NaN NaN  \n",
       "145 NaN NaN NaN NaN NaN  \n",
       "146 NaN NaN NaN NaN NaN  \n",
       "\n",
       "[147 rows x 8 columns]"
      ]
     },
     "execution_count": 182,
     "metadata": {},
     "output_type": "execute_result"
    }
   ],
   "source": [
    "df_headlines = pd.read_csv('headlines2.csv')\n",
    "df_headlines"
   ]
  },
  {
   "cell_type": "code",
   "execution_count": 183,
   "metadata": {
    "scrolled": true
   },
   "outputs": [
    {
     "data": {
      "text/html": [
       "<div>\n",
       "<style scoped>\n",
       "    .dataframe tbody tr th:only-of-type {\n",
       "        vertical-align: middle;\n",
       "    }\n",
       "\n",
       "    .dataframe tbody tr th {\n",
       "        vertical-align: top;\n",
       "    }\n",
       "\n",
       "    .dataframe thead th {\n",
       "        text-align: right;\n",
       "    }\n",
       "</style>\n",
       "<table border=\"1\" class=\"dataframe\">\n",
       "  <thead>\n",
       "    <tr style=\"text-align: right;\">\n",
       "      <th></th>\n",
       "      <th>date</th>\n",
       "      <th>source</th>\n",
       "      <th>headline</th>\n",
       "    </tr>\n",
       "  </thead>\n",
       "  <tbody>\n",
       "    <tr>\n",
       "      <th>0</th>\n",
       "      <td>4/13/20</td>\n",
       "      <td>CNBC</td>\n",
       "      <td>Stocks making the biggest moves after hours: Roku AMC Tesla and more</td>\n",
       "    </tr>\n",
       "    <tr>\n",
       "      <th>1</th>\n",
       "      <td>4/13/20</td>\n",
       "      <td>CNBC</td>\n",
       "      <td>Stock buybacks: We need a new litmus test after the bailouts</td>\n",
       "    </tr>\n",
       "    <tr>\n",
       "      <th>2</th>\n",
       "      <td>4/14/20</td>\n",
       "      <td>Bloomberg</td>\n",
       "      <td>Tesla Wooed by $1 Billion Missouri Package for Cybertruck Plant</td>\n",
       "    </tr>\n",
       "    <tr>\n",
       "      <th>3</th>\n",
       "      <td>4/14/20</td>\n",
       "      <td>CNBC</td>\n",
       "      <td>Tesla shares pop after Credit Suisse upgrades stock says company will increase electric car lead</td>\n",
       "    </tr>\n",
       "    <tr>\n",
       "      <th>4</th>\n",
       "      <td>4/14/20</td>\n",
       "      <td>CNBC</td>\n",
       "      <td>Tesla shares jump after hours as Goldman initiates with buy rating sees rally above $800</td>\n",
       "    </tr>\n",
       "    <tr>\n",
       "      <th>...</th>\n",
       "      <td>...</td>\n",
       "      <td>...</td>\n",
       "      <td>...</td>\n",
       "    </tr>\n",
       "    <tr>\n",
       "      <th>142</th>\n",
       "      <td>5/12/20</td>\n",
       "      <td>CNBC</td>\n",
       "      <td>Chamath Palihapitiya defends Elon Musk's decision to open Tesla production in defiance of local authorities</td>\n",
       "    </tr>\n",
       "    <tr>\n",
       "      <th>143</th>\n",
       "      <td>5/12/20</td>\n",
       "      <td>CNBC</td>\n",
       "      <td>Tesla CEO Elon Musk defies stay-at-home order in Alameda County in California</td>\n",
       "    </tr>\n",
       "    <tr>\n",
       "      <th>144</th>\n",
       "      <td>5/12/20</td>\n",
       "      <td>CNBC</td>\n",
       "      <td>Cramer on Elon Musk's fight with California: It's time to open up that factory</td>\n",
       "    </tr>\n",
       "    <tr>\n",
       "      <th>145</th>\n",
       "      <td>5/12/20</td>\n",
       "      <td>CNBC</td>\n",
       "      <td>Chamath Palihapitiya on Elon Musk's fight with Alameda County over social distancing rules</td>\n",
       "    </tr>\n",
       "    <tr>\n",
       "      <th>146</th>\n",
       "      <td>5/12/20</td>\n",
       "      <td>CNBC</td>\n",
       "      <td>Stocks making the biggest moves in the premarket: Casper Sleep Tesla Eventbrite Hertz &amp; more</td>\n",
       "    </tr>\n",
       "  </tbody>\n",
       "</table>\n",
       "<p>147 rows × 3 columns</p>\n",
       "</div>"
      ],
      "text/plain": [
       "        date     source  \\\n",
       "0    4/13/20  CNBC        \n",
       "1    4/13/20  CNBC        \n",
       "2    4/14/20  Bloomberg   \n",
       "3    4/14/20  CNBC        \n",
       "4    4/14/20  CNBC        \n",
       "..       ...   ...        \n",
       "142  5/12/20  CNBC        \n",
       "143  5/12/20  CNBC        \n",
       "144  5/12/20  CNBC        \n",
       "145  5/12/20  CNBC        \n",
       "146  5/12/20  CNBC        \n",
       "\n",
       "                                                                                                             headline  \n",
       "0    Stocks making the biggest moves after hours: Roku AMC Tesla and more                                              \n",
       "1    Stock buybacks: We need a new litmus test after the bailouts                                                      \n",
       "2    Tesla Wooed by $1 Billion Missouri Package for Cybertruck Plant                                                   \n",
       "3    Tesla shares pop after Credit Suisse upgrades stock says company will increase electric car lead                  \n",
       "4    Tesla shares jump after hours as Goldman initiates with buy rating sees rally above $800                          \n",
       "..                                                                                            ...                      \n",
       "142  Chamath Palihapitiya defends Elon Musk's decision to open Tesla production in defiance of local authorities       \n",
       "143  Tesla CEO Elon Musk defies stay-at-home order in Alameda County in California                                     \n",
       "144  Cramer on Elon Musk's fight with California: It's time to open up that factory                                    \n",
       "145  Chamath Palihapitiya on Elon Musk's fight with Alameda County over social distancing rules                        \n",
       "146  Stocks making the biggest moves in the premarket: Casper Sleep Tesla Eventbrite Hertz & more                      \n",
       "\n",
       "[147 rows x 3 columns]"
      ]
     },
     "execution_count": 183,
     "metadata": {},
     "output_type": "execute_result"
    }
   ],
   "source": [
    "df_headlines = df_headlines.dropna(axis=1)\n",
    "df_headlines"
   ]
  },
  {
   "cell_type": "code",
   "execution_count": 184,
   "metadata": {},
   "outputs": [
    {
     "name": "stderr",
     "output_type": "stream",
     "text": [
      "/Users/asamra/opt/anaconda3/envs/airflow/lib/python3.7/site-packages/ipykernel_launcher.py:1: SettingWithCopyWarning: \n",
      "A value is trying to be set on a copy of a slice from a DataFrame.\n",
      "Try using .loc[row_indexer,col_indexer] = value instead\n",
      "\n",
      "See the caveats in the documentation: http://pandas.pydata.org/pandas-docs/stable/user_guide/indexing.html#returning-a-view-versus-a-copy\n",
      "  \"\"\"Entry point for launching an IPython kernel.\n"
     ]
    },
    {
     "data": {
      "text/html": [
       "<div>\n",
       "<style scoped>\n",
       "    .dataframe tbody tr th:only-of-type {\n",
       "        vertical-align: middle;\n",
       "    }\n",
       "\n",
       "    .dataframe tbody tr th {\n",
       "        vertical-align: top;\n",
       "    }\n",
       "\n",
       "    .dataframe thead th {\n",
       "        text-align: right;\n",
       "    }\n",
       "</style>\n",
       "<table border=\"1\" class=\"dataframe\">\n",
       "  <thead>\n",
       "    <tr style=\"text-align: right;\">\n",
       "      <th></th>\n",
       "      <th>date</th>\n",
       "      <th>source</th>\n",
       "      <th>headline</th>\n",
       "      <th>score</th>\n",
       "    </tr>\n",
       "  </thead>\n",
       "  <tbody>\n",
       "    <tr>\n",
       "      <th>0</th>\n",
       "      <td>4/13/20</td>\n",
       "      <td>CNBC</td>\n",
       "      <td>Stocks making the biggest moves after hours: Roku AMC Tesla and more</td>\n",
       "      <td>NaN</td>\n",
       "    </tr>\n",
       "    <tr>\n",
       "      <th>1</th>\n",
       "      <td>4/13/20</td>\n",
       "      <td>CNBC</td>\n",
       "      <td>Stock buybacks: We need a new litmus test after the bailouts</td>\n",
       "      <td>NaN</td>\n",
       "    </tr>\n",
       "    <tr>\n",
       "      <th>2</th>\n",
       "      <td>4/14/20</td>\n",
       "      <td>Bloomberg</td>\n",
       "      <td>Tesla Wooed by $1 Billion Missouri Package for Cybertruck Plant</td>\n",
       "      <td>NaN</td>\n",
       "    </tr>\n",
       "    <tr>\n",
       "      <th>3</th>\n",
       "      <td>4/14/20</td>\n",
       "      <td>CNBC</td>\n",
       "      <td>Tesla shares pop after Credit Suisse upgrades stock says company will increase electric car lead</td>\n",
       "      <td>NaN</td>\n",
       "    </tr>\n",
       "    <tr>\n",
       "      <th>4</th>\n",
       "      <td>4/14/20</td>\n",
       "      <td>CNBC</td>\n",
       "      <td>Tesla shares jump after hours as Goldman initiates with buy rating sees rally above $800</td>\n",
       "      <td>NaN</td>\n",
       "    </tr>\n",
       "    <tr>\n",
       "      <th>...</th>\n",
       "      <td>...</td>\n",
       "      <td>...</td>\n",
       "      <td>...</td>\n",
       "      <td>...</td>\n",
       "    </tr>\n",
       "    <tr>\n",
       "      <th>142</th>\n",
       "      <td>5/12/20</td>\n",
       "      <td>CNBC</td>\n",
       "      <td>Chamath Palihapitiya defends Elon Musk's decision to open Tesla production in defiance of local authorities</td>\n",
       "      <td>NaN</td>\n",
       "    </tr>\n",
       "    <tr>\n",
       "      <th>143</th>\n",
       "      <td>5/12/20</td>\n",
       "      <td>CNBC</td>\n",
       "      <td>Tesla CEO Elon Musk defies stay-at-home order in Alameda County in California</td>\n",
       "      <td>NaN</td>\n",
       "    </tr>\n",
       "    <tr>\n",
       "      <th>144</th>\n",
       "      <td>5/12/20</td>\n",
       "      <td>CNBC</td>\n",
       "      <td>Cramer on Elon Musk's fight with California: It's time to open up that factory</td>\n",
       "      <td>NaN</td>\n",
       "    </tr>\n",
       "    <tr>\n",
       "      <th>145</th>\n",
       "      <td>5/12/20</td>\n",
       "      <td>CNBC</td>\n",
       "      <td>Chamath Palihapitiya on Elon Musk's fight with Alameda County over social distancing rules</td>\n",
       "      <td>NaN</td>\n",
       "    </tr>\n",
       "    <tr>\n",
       "      <th>146</th>\n",
       "      <td>5/12/20</td>\n",
       "      <td>CNBC</td>\n",
       "      <td>Stocks making the biggest moves in the premarket: Casper Sleep Tesla Eventbrite Hertz &amp; more</td>\n",
       "      <td>NaN</td>\n",
       "    </tr>\n",
       "  </tbody>\n",
       "</table>\n",
       "<p>147 rows × 4 columns</p>\n",
       "</div>"
      ],
      "text/plain": [
       "        date     source  \\\n",
       "0    4/13/20  CNBC        \n",
       "1    4/13/20  CNBC        \n",
       "2    4/14/20  Bloomberg   \n",
       "3    4/14/20  CNBC        \n",
       "4    4/14/20  CNBC        \n",
       "..       ...   ...        \n",
       "142  5/12/20  CNBC        \n",
       "143  5/12/20  CNBC        \n",
       "144  5/12/20  CNBC        \n",
       "145  5/12/20  CNBC        \n",
       "146  5/12/20  CNBC        \n",
       "\n",
       "                                                                                                             headline  \\\n",
       "0    Stocks making the biggest moves after hours: Roku AMC Tesla and more                                               \n",
       "1    Stock buybacks: We need a new litmus test after the bailouts                                                       \n",
       "2    Tesla Wooed by $1 Billion Missouri Package for Cybertruck Plant                                                    \n",
       "3    Tesla shares pop after Credit Suisse upgrades stock says company will increase electric car lead                   \n",
       "4    Tesla shares jump after hours as Goldman initiates with buy rating sees rally above $800                           \n",
       "..                                                                                            ...                       \n",
       "142  Chamath Palihapitiya defends Elon Musk's decision to open Tesla production in defiance of local authorities        \n",
       "143  Tesla CEO Elon Musk defies stay-at-home order in Alameda County in California                                      \n",
       "144  Cramer on Elon Musk's fight with California: It's time to open up that factory                                     \n",
       "145  Chamath Palihapitiya on Elon Musk's fight with Alameda County over social distancing rules                         \n",
       "146  Stocks making the biggest moves in the premarket: Casper Sleep Tesla Eventbrite Hertz & more                       \n",
       "\n",
       "     score  \n",
       "0   NaN     \n",
       "1   NaN     \n",
       "2   NaN     \n",
       "3   NaN     \n",
       "4   NaN     \n",
       "..   ..     \n",
       "142 NaN     \n",
       "143 NaN     \n",
       "144 NaN     \n",
       "145 NaN     \n",
       "146 NaN     \n",
       "\n",
       "[147 rows x 4 columns]"
      ]
     },
     "execution_count": 184,
     "metadata": {},
     "output_type": "execute_result"
    }
   ],
   "source": [
    "df_headlines['score'] = np.nan\n",
    "df_headlines"
   ]
  },
  {
   "cell_type": "code",
   "execution_count": 185,
   "metadata": {},
   "outputs": [],
   "source": [
    "from nltk.tokenize import sent_tokenize, word_tokenize"
   ]
  },
  {
   "cell_type": "code",
   "execution_count": 186,
   "metadata": {},
   "outputs": [
    {
     "name": "stderr",
     "output_type": "stream",
     "text": [
      "[nltk_data] Downloading package punkt to /Users/asamra/nltk_data...\n",
      "[nltk_data]   Package punkt is already up-to-date!\n"
     ]
    },
    {
     "data": {
      "text/plain": [
       "True"
      ]
     },
     "execution_count": 186,
     "metadata": {},
     "output_type": "execute_result"
    }
   ],
   "source": [
    "nltk.download('punkt')"
   ]
  },
  {
   "cell_type": "code",
   "execution_count": 187,
   "metadata": {},
   "outputs": [
    {
     "name": "stdout",
     "output_type": "stream",
     "text": [
      "['Stocks', 'making', 'the', 'biggest', 'moves', 'after', 'hours', ':', 'Roku', 'AMC', 'Tesla', 'and', 'more']\n"
     ]
    }
   ],
   "source": [
    "headline_0 = word_tokenize(df_headlines['headline'][0])\n",
    "print(headline_0)"
   ]
  },
  {
   "cell_type": "code",
   "execution_count": 188,
   "metadata": {},
   "outputs": [],
   "source": [
    "from nltk.corpus import stopwords"
   ]
  },
  {
   "cell_type": "code",
   "execution_count": 189,
   "metadata": {},
   "outputs": [
    {
     "name": "stderr",
     "output_type": "stream",
     "text": [
      "[nltk_data] Downloading package stopwords to\n",
      "[nltk_data]     /Users/asamra/nltk_data...\n",
      "[nltk_data]   Package stopwords is already up-to-date!\n"
     ]
    },
    {
     "data": {
      "text/plain": [
       "True"
      ]
     },
     "execution_count": 189,
     "metadata": {},
     "output_type": "execute_result"
    }
   ],
   "source": [
    "nltk.download('stopwords')"
   ]
  },
  {
   "cell_type": "code",
   "execution_count": 190,
   "metadata": {},
   "outputs": [
    {
     "name": "stdout",
     "output_type": "stream",
     "text": [
      "['i', 'me', 'my', 'myself', 'we', 'our', 'ours', 'ourselves', 'you', \"you're\", \"you've\", \"you'll\", \"you'd\", 'your', 'yours', 'yourself', 'yourselves', 'he', 'him', 'his', 'himself', 'she', \"she's\", 'her', 'hers', 'herself', 'it', \"it's\", 'its', 'itself', 'they', 'them', 'their', 'theirs', 'themselves', 'what', 'which', 'who', 'whom', 'this', 'that', \"that'll\", 'these', 'those', 'am', 'is', 'are', 'was', 'were', 'be', 'been', 'being', 'have', 'has', 'had', 'having', 'do', 'does', 'did', 'doing', 'a', 'an', 'the', 'and', 'but', 'if', 'or', 'because', 'as', 'until', 'while', 'of', 'at', 'by', 'for', 'with', 'about', 'against', 'between', 'into', 'through', 'during', 'before', 'after', 'above', 'below', 'to', 'from', 'up', 'down', 'in', 'out', 'on', 'off', 'over', 'under', 'again', 'further', 'then', 'once', 'here', 'there', 'when', 'where', 'why', 'how', 'all', 'any', 'both', 'each', 'few', 'more', 'most', 'other', 'some', 'such', 'no', 'nor', 'not', 'only', 'own', 'same', 'so', 'than', 'too', 'very', 's', 't', 'can', 'will', 'just', 'don', \"don't\", 'should', \"should've\", 'now', 'd', 'll', 'm', 'o', 're', 've', 'y', 'ain', 'aren', \"aren't\", 'couldn', \"couldn't\", 'didn', \"didn't\", 'doesn', \"doesn't\", 'hadn', \"hadn't\", 'hasn', \"hasn't\", 'haven', \"haven't\", 'isn', \"isn't\", 'ma', 'mightn', \"mightn't\", 'mustn', \"mustn't\", 'needn', \"needn't\", 'shan', \"shan't\", 'shouldn', \"shouldn't\", 'wasn', \"wasn't\", 'weren', \"weren't\", 'won', \"won't\", 'wouldn', \"wouldn't\"]\n"
     ]
    }
   ],
   "source": [
    "stop_words = stopwords.words('english')\n",
    "print(stop_words)"
   ]
  },
  {
   "cell_type": "code",
   "execution_count": 191,
   "metadata": {},
   "outputs": [],
   "source": [
    "stop_words.append(':')\n",
    "#print(stop_words)"
   ]
  },
  {
   "cell_type": "code",
   "execution_count": 192,
   "metadata": {},
   "outputs": [
    {
     "name": "stdout",
     "output_type": "stream",
     "text": [
      "['Stocks', 'making', 'biggest', 'moves', 'hours', 'Roku', 'AMC', 'Tesla']\n"
     ]
    }
   ],
   "source": [
    "filtered_headline_0 = []\n",
    "for word in headline_0:\n",
    "    if word not in stop_words:\n",
    "        filtered_headline_0.append(word)\n",
    "print(filtered_headline_0)"
   ]
  },
  {
   "cell_type": "code",
   "execution_count": 193,
   "metadata": {},
   "outputs": [],
   "source": [
    "from nltk.sentiment.vader import SentimentIntensityAnalyzer"
   ]
  },
  {
   "cell_type": "code",
   "execution_count": 194,
   "metadata": {},
   "outputs": [
    {
     "name": "stderr",
     "output_type": "stream",
     "text": [
      "[nltk_data] Downloading package vader_lexicon to\n",
      "[nltk_data]     /Users/asamra/nltk_data...\n",
      "[nltk_data]   Package vader_lexicon is already up-to-date!\n"
     ]
    },
    {
     "data": {
      "text/plain": [
       "True"
      ]
     },
     "execution_count": 194,
     "metadata": {},
     "output_type": "execute_result"
    }
   ],
   "source": [
    "nltk.download('vader_lexicon')"
   ]
  },
  {
   "cell_type": "code",
   "execution_count": 195,
   "metadata": {},
   "outputs": [],
   "source": [
    "sid = SentimentIntensityAnalyzer()"
   ]
  },
  {
   "cell_type": "code",
   "execution_count": 196,
   "metadata": {},
   "outputs": [],
   "source": [
    "headline_0_pos = []\n",
    "headline_0_neg = []\n",
    "headline_0_neu = []"
   ]
  },
  {
   "cell_type": "code",
   "execution_count": 197,
   "metadata": {},
   "outputs": [],
   "source": [
    "for word in filtered_headline_0:\n",
    "    if (sid.polarity_scores(word)['compound']) >= 0.5:\n",
    "        headline_0_pos.append(word)\n",
    "    elif (sid.polarity_scores(word)['compound']) <= -0.5:\n",
    "        headline_0_neg.append(word)\n",
    "    else:\n",
    "        headline_0_neu.append(word) "
   ]
  },
  {
   "cell_type": "code",
   "execution_count": 198,
   "metadata": {},
   "outputs": [
    {
     "name": "stdout",
     "output_type": "stream",
     "text": [
      "[]\n"
     ]
    }
   ],
   "source": [
    "print(headline_0_pos)"
   ]
  },
  {
   "cell_type": "code",
   "execution_count": 199,
   "metadata": {},
   "outputs": [
    {
     "name": "stdout",
     "output_type": "stream",
     "text": [
      "[]\n"
     ]
    }
   ],
   "source": [
    "print(headline_0_neg)"
   ]
  },
  {
   "cell_type": "code",
   "execution_count": 200,
   "metadata": {},
   "outputs": [
    {
     "name": "stdout",
     "output_type": "stream",
     "text": [
      "['Stocks', 'making', 'biggest', 'moves', 'hours', 'Roku', 'AMC', 'Tesla']\n"
     ]
    }
   ],
   "source": [
    "print(headline_0_neu)"
   ]
  },
  {
   "cell_type": "code",
   "execution_count": 201,
   "metadata": {},
   "outputs": [
    {
     "name": "stdout",
     "output_type": "stream",
     "text": [
      "0.0\n"
     ]
    }
   ],
   "source": [
    "print(sid.polarity_scores('biggest')['compound'])"
   ]
  },
  {
   "cell_type": "code",
   "execution_count": 202,
   "metadata": {},
   "outputs": [],
   "source": [
    "#score_0 = ((1/3)*len(headline_0_pos) - (1/3)*len(headline_0_neg))/len(filtered_headline_0)\n",
    "if len(headline_0_neu) >= len(headline_0_pos) and len(headline_0_neu) >= len(headline_0_neg):\n",
    "    score_0 = 0\n",
    "elif len(headline_0_pos) > len(headline_0_neg):\n",
    "    score_0 = 1\n",
    "else:\n",
    "    score_0 = -1"
   ]
  },
  {
   "cell_type": "code",
   "execution_count": 203,
   "metadata": {},
   "outputs": [
    {
     "name": "stdout",
     "output_type": "stream",
     "text": [
      "0\n"
     ]
    }
   ],
   "source": [
    "print(score_0)"
   ]
  },
  {
   "cell_type": "code",
   "execution_count": 204,
   "metadata": {},
   "outputs": [],
   "source": [
    "# create loop for all rows"
   ]
  },
  {
   "cell_type": "code",
   "execution_count": 205,
   "metadata": {},
   "outputs": [
    {
     "data": {
      "text/plain": [
       "147"
      ]
     },
     "execution_count": 205,
     "metadata": {},
     "output_type": "execute_result"
    }
   ],
   "source": [
    "len(df_headlines)"
   ]
  },
  {
   "cell_type": "code",
   "execution_count": 206,
   "metadata": {},
   "outputs": [],
   "source": [
    "for index, row in df_headlines.iterrows():\n",
    "    headline_tokenized = word_tokenize(row['headline'])\n",
    "    filtered_headline = []\n",
    "    for word in headline_tokenized:\n",
    "        if word not in stop_words:\n",
    "            filtered_headline.append(word)\n",
    "    #print(filtered_headline)\n",
    "    headline_pos = []\n",
    "    headline_neg = []\n",
    "    headline_neu = []\n",
    "    for word in filtered_headline:\n",
    "        if (sid.polarity_scores(word)['compound']) >= 0.5:\n",
    "            headline_pos.append(word)\n",
    "        elif (sid.polarity_scores(word)['compound']) <= -0.5:\n",
    "            headline_neg.append(word)\n",
    "        else:\n",
    "            headline_neu.append(word)\n",
    "    #score = ((1/3)*len(headline_pos) - (1/3)*len(headline_neg))/len(filtered_headline)\n",
    "    '''if max(len(headline_pos) > len(headline_neu) and len(headline_pos) > len(headline_neu):\n",
    "        score = 1\n",
    "    elif len(headline_pos) > len(headline_neg):\n",
    "        score = 1\n",
    "    else:\n",
    "        score = -1'''\n",
    "    \n",
    "    if len(headline_neu) >= len(headline_pos) and len(headline_neu) >= len(headline_neg):\n",
    "        score = 0\n",
    "    elif len(headline_pos) > len(headline_neg):\n",
    "        score = 1\n",
    "    else:\n",
    "        score = -1\n",
    "    #print(len(headline_neu), len(headline_neg), len(headline_pos))\n",
    "    df_headlines.at[index,'score'] = score\n",
    "    #df.at['C', 'x'] = 10\n",
    "    #print(index, score)\n",
    "    "
   ]
  },
  {
   "cell_type": "code",
   "execution_count": 207,
   "metadata": {},
   "outputs": [
    {
     "data": {
      "text/html": [
       "<div>\n",
       "<style scoped>\n",
       "    .dataframe tbody tr th:only-of-type {\n",
       "        vertical-align: middle;\n",
       "    }\n",
       "\n",
       "    .dataframe tbody tr th {\n",
       "        vertical-align: top;\n",
       "    }\n",
       "\n",
       "    .dataframe thead th {\n",
       "        text-align: right;\n",
       "    }\n",
       "</style>\n",
       "<table border=\"1\" class=\"dataframe\">\n",
       "  <thead>\n",
       "    <tr style=\"text-align: right;\">\n",
       "      <th></th>\n",
       "      <th>date</th>\n",
       "      <th>source</th>\n",
       "      <th>headline</th>\n",
       "      <th>score</th>\n",
       "    </tr>\n",
       "  </thead>\n",
       "  <tbody>\n",
       "    <tr>\n",
       "      <th>0</th>\n",
       "      <td>4/13/20</td>\n",
       "      <td>CNBC</td>\n",
       "      <td>Stocks making the biggest moves after hours: Roku AMC Tesla and more</td>\n",
       "      <td>0.0</td>\n",
       "    </tr>\n",
       "    <tr>\n",
       "      <th>1</th>\n",
       "      <td>4/13/20</td>\n",
       "      <td>CNBC</td>\n",
       "      <td>Stock buybacks: We need a new litmus test after the bailouts</td>\n",
       "      <td>0.0</td>\n",
       "    </tr>\n",
       "    <tr>\n",
       "      <th>2</th>\n",
       "      <td>4/14/20</td>\n",
       "      <td>Bloomberg</td>\n",
       "      <td>Tesla Wooed by $1 Billion Missouri Package for Cybertruck Plant</td>\n",
       "      <td>0.0</td>\n",
       "    </tr>\n",
       "    <tr>\n",
       "      <th>3</th>\n",
       "      <td>4/14/20</td>\n",
       "      <td>CNBC</td>\n",
       "      <td>Tesla shares pop after Credit Suisse upgrades stock says company will increase electric car lead</td>\n",
       "      <td>0.0</td>\n",
       "    </tr>\n",
       "    <tr>\n",
       "      <th>4</th>\n",
       "      <td>4/14/20</td>\n",
       "      <td>CNBC</td>\n",
       "      <td>Tesla shares jump after hours as Goldman initiates with buy rating sees rally above $800</td>\n",
       "      <td>0.0</td>\n",
       "    </tr>\n",
       "    <tr>\n",
       "      <th>...</th>\n",
       "      <td>...</td>\n",
       "      <td>...</td>\n",
       "      <td>...</td>\n",
       "      <td>...</td>\n",
       "    </tr>\n",
       "    <tr>\n",
       "      <th>142</th>\n",
       "      <td>5/12/20</td>\n",
       "      <td>CNBC</td>\n",
       "      <td>Chamath Palihapitiya defends Elon Musk's decision to open Tesla production in defiance of local authorities</td>\n",
       "      <td>0.0</td>\n",
       "    </tr>\n",
       "    <tr>\n",
       "      <th>143</th>\n",
       "      <td>5/12/20</td>\n",
       "      <td>CNBC</td>\n",
       "      <td>Tesla CEO Elon Musk defies stay-at-home order in Alameda County in California</td>\n",
       "      <td>0.0</td>\n",
       "    </tr>\n",
       "    <tr>\n",
       "      <th>144</th>\n",
       "      <td>5/12/20</td>\n",
       "      <td>CNBC</td>\n",
       "      <td>Cramer on Elon Musk's fight with California: It's time to open up that factory</td>\n",
       "      <td>0.0</td>\n",
       "    </tr>\n",
       "    <tr>\n",
       "      <th>145</th>\n",
       "      <td>5/12/20</td>\n",
       "      <td>CNBC</td>\n",
       "      <td>Chamath Palihapitiya on Elon Musk's fight with Alameda County over social distancing rules</td>\n",
       "      <td>0.0</td>\n",
       "    </tr>\n",
       "    <tr>\n",
       "      <th>146</th>\n",
       "      <td>5/12/20</td>\n",
       "      <td>CNBC</td>\n",
       "      <td>Stocks making the biggest moves in the premarket: Casper Sleep Tesla Eventbrite Hertz &amp; more</td>\n",
       "      <td>0.0</td>\n",
       "    </tr>\n",
       "  </tbody>\n",
       "</table>\n",
       "<p>147 rows × 4 columns</p>\n",
       "</div>"
      ],
      "text/plain": [
       "        date     source  \\\n",
       "0    4/13/20  CNBC        \n",
       "1    4/13/20  CNBC        \n",
       "2    4/14/20  Bloomberg   \n",
       "3    4/14/20  CNBC        \n",
       "4    4/14/20  CNBC        \n",
       "..       ...   ...        \n",
       "142  5/12/20  CNBC        \n",
       "143  5/12/20  CNBC        \n",
       "144  5/12/20  CNBC        \n",
       "145  5/12/20  CNBC        \n",
       "146  5/12/20  CNBC        \n",
       "\n",
       "                                                                                                             headline  \\\n",
       "0    Stocks making the biggest moves after hours: Roku AMC Tesla and more                                               \n",
       "1    Stock buybacks: We need a new litmus test after the bailouts                                                       \n",
       "2    Tesla Wooed by $1 Billion Missouri Package for Cybertruck Plant                                                    \n",
       "3    Tesla shares pop after Credit Suisse upgrades stock says company will increase electric car lead                   \n",
       "4    Tesla shares jump after hours as Goldman initiates with buy rating sees rally above $800                           \n",
       "..                                                                                            ...                       \n",
       "142  Chamath Palihapitiya defends Elon Musk's decision to open Tesla production in defiance of local authorities        \n",
       "143  Tesla CEO Elon Musk defies stay-at-home order in Alameda County in California                                      \n",
       "144  Cramer on Elon Musk's fight with California: It's time to open up that factory                                     \n",
       "145  Chamath Palihapitiya on Elon Musk's fight with Alameda County over social distancing rules                         \n",
       "146  Stocks making the biggest moves in the premarket: Casper Sleep Tesla Eventbrite Hertz & more                       \n",
       "\n",
       "     score  \n",
       "0    0.0    \n",
       "1    0.0    \n",
       "2    0.0    \n",
       "3    0.0    \n",
       "4    0.0    \n",
       "..   ...    \n",
       "142  0.0    \n",
       "143  0.0    \n",
       "144  0.0    \n",
       "145  0.0    \n",
       "146  0.0    \n",
       "\n",
       "[147 rows x 4 columns]"
      ]
     },
     "execution_count": 207,
     "metadata": {},
     "output_type": "execute_result"
    }
   ],
   "source": [
    "df_headlines"
   ]
  },
  {
   "cell_type": "code",
   "execution_count": 208,
   "metadata": {},
   "outputs": [
    {
     "data": {
      "text/plain": [
       "date        4/22/20                                                                                   \n",
       "source      CNBC                                                                                      \n",
       "headline    Investors pick Tesla over GM Toyota to lead emerging auto tech post-coronavirus crisis    \n",
       "score       0                                                                                         \n",
       "Name: 28, dtype: object"
      ]
     },
     "execution_count": 208,
     "metadata": {},
     "output_type": "execute_result"
    }
   ],
   "source": [
    "# check scores\n",
    "df_headlines.iloc[28]"
   ]
  },
  {
   "cell_type": "code",
   "execution_count": null,
   "metadata": {},
   "outputs": [],
   "source": []
  }
 ],
 "metadata": {
  "kernelspec": {
   "display_name": "Python3",
   "language": "python",
   "name": "python3"
  },
  "language_info": {
   "codemirror_mode": {
    "name": "ipython",
    "version": 3
   },
   "file_extension": ".py",
   "mimetype": "text/x-python",
   "name": "python",
   "nbconvert_exporter": "python",
   "pygments_lexer": "ipython3",
   "version": "3.7.7"
  }
 },
 "nbformat": 4,
 "nbformat_minor": 2
}
